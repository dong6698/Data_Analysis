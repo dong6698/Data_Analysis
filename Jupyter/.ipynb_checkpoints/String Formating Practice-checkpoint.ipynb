{
 "cells": [
  {
   "cell_type": "code",
   "execution_count": 16,
   "metadata": {},
   "outputs": [
    {
     "name": "stdout",
     "output_type": "stream",
     "text": [
      "Please input the total width: 35\n",
      "===================================\n",
      "Item                          Price\n",
      "-----------------------------------\n",
      "Apple                          0.70\n",
      "Pears                          0.90\n",
      "Banana                         2.60\n",
      "===================================\n"
     ]
    }
   ],
   "source": [
    "totalWidth = int(input('Please input the total width: '))\n",
    "\n",
    "priceWidth = 10\n",
    "itemWidth = totalWidth - priceWidth\n",
    "\n",
    "header_fmt = '{{:<{}}}{{:>{}}}'.format(itemWidth, priceWidth)\n",
    "row_fmt = '{{:<{}}}{{:>{}.2f}}'.format(itemWidth, priceWidth)\n",
    "\n",
    "print('='* totalWidth)\n",
    "print(header_fmt.format('Item', 'Price'))\n",
    "print('-' * totalWidth)\n",
    "\n",
    "print(row_fmt.format('Apple', 0.7))\n",
    "print(row_fmt.format('Pears', 0.9))\n",
    "print(row_fmt.format('Banana', 2.6))\n",
    "\n",
    "print('=' * totalWidth)\n"
   ]
  },
  {
   "cell_type": "code",
   "execution_count": null,
   "metadata": {
    "collapsed": true
   },
   "outputs": [],
   "source": []
  }
 ],
 "metadata": {
  "kernelspec": {
   "display_name": "Python 3",
   "language": "python",
   "name": "python3"
  },
  "language_info": {
   "codemirror_mode": {
    "name": "ipython",
    "version": 3
   },
   "file_extension": ".py",
   "mimetype": "text/x-python",
   "name": "python",
   "nbconvert_exporter": "python",
   "pygments_lexer": "ipython3",
   "version": "3.6.3"
  }
 },
 "nbformat": 4,
 "nbformat_minor": 2
}
